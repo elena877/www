{
  "nbformat": 4,
  "nbformat_minor": 0,
  "metadata": {
    "colab": {
      "provenance": [],
      "authorship_tag": "ABX9TyMYw0SbT1tUrCQdBgfdfBKF",
      "include_colab_link": true
    },
    "kernelspec": {
      "name": "python3",
      "display_name": "Python 3"
    },
    "language_info": {
      "name": "python"
    }
  },
  "cells": [
    {
      "cell_type": "markdown",
      "metadata": {
        "id": "view-in-github",
        "colab_type": "text"
      },
      "source": [
        "<a href=\"https://colab.research.google.com/github/elena877/www/blob/main/HubbleConstant.ipynb\" target=\"_parent\"><img src=\"https://colab.research.google.com/assets/colab-badge.svg\" alt=\"Open In Colab\"/></a>"
      ]
    },
    {
      "cell_type": "code",
      "source": [
        "import numpy as np\n",
        "import astropy.units as u\n",
        "import astropy.constants as c"
      ],
      "metadata": {
        "id": "OKXZBzKRFiw5"
      },
      "execution_count": 2,
      "outputs": []
    },
    {
      "cell_type": "markdown",
      "source": [
        "D = vt\n",
        "\n",
        "V = H x d\n",
        "\n",
        "To = d/v = d /(Hxd) = 1/H = 1 Mpc / 70 km/s\n",
        "\n",
        "\n",
        ".\n",
        "\n",
        "\n",
        "H = 70 km/s/Mpc\n",
        "\n",
        "1 Mpc = 3 x 10^19 km\n",
        "\n",
        "1.39  e10 yrs\n",
        "13.9 Gigayears"
      ],
      "metadata": {
        "id": "cyamyl5SDB2r"
      }
    },
    {
      "cell_type": "code",
      "source": [
        "#H = hubble constant, 1/H = age of universe\n",
        "H = 70 * u.km /u.s /u.Mpc\n",
        "print((1/H).to(u.Gyr))"
      ],
      "metadata": {
        "id": "RbXKCIF3GUbN",
        "colab": {
          "base_uri": "https://localhost:8080/"
        },
        "outputId": "68be68dc-fca3-4239-e791-3cf41bf52909"
      },
      "execution_count": 11,
      "outputs": [
        {
          "output_type": "stream",
          "name": "stdout",
          "text": [
            "13.968460309725558 Gyr\n"
          ]
        }
      ]
    }
  ]
}